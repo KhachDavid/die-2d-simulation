{
 "cells": [
  {
   "cell_type": "markdown",
   "metadata": {},
   "source": [
    "![frames.png](frames.png)"
   ]
  },
  {
   "cell_type": "code",
   "execution_count": 1,
   "metadata": {},
   "outputs": [],
   "source": [
    "import sympy as sym\n",
    "import numpy as np\n",
    "from sympy import sin, cos, Function, Matrix, simplify, lambdify, Eq\n"
   ]
  },
  {
   "cell_type": "code",
   "execution_count": 14,
   "metadata": {},
   "outputs": [],
   "source": [
    "# Define helper for generating SE(3) matrix\n",
    "\n",
    "# rotational\n",
    "def Rotz(theta):\n",
    "    return sym.Matrix([\n",
    "        # 4x4 rotation matrix\n",
    "        [sym.cos(theta), -sym.sin(theta), 0, 0],\n",
    "        [sym.sin(theta), sym.cos(theta), 0, 0],\n",
    "        [0, 0, 1, 0],\n",
    "        [0, 0, 0, 1]\n",
    "    ])\n",
    "    \n",
    "# translational se(3)\n",
    "def T(x, y):\n",
    "    return sym.Matrix([\n",
    "        # 4x4 translation matrix\n",
    "        [1, 0, 0, x],\n",
    "        [0, 1, 0, y],\n",
    "        [0, 0, 1, 0],\n",
    "        [0, 0, 0, 1]\n",
    "    ])\n",
    "    \n",
    "# Define the helper for hatting a 3x1 vector\n",
    "def hat(v: sym.Matrix) -> sym.Matrix:\n",
    "    return sym.Matrix([[0, -v[2], v[1]],\n",
    "                       [v[2], 0, -v[0]],\n",
    "                       [-v[1], v[0], 0]])\n",
    "    \n",
    "# Define the helper for unhating a 3x3 skew-symmetric matrix\n",
    "def unhat(v: sym.Matrix) -> sym.Matrix:\n",
    "    return sym.Matrix([v[2, 1], v[0, 2], v[1, 0]])\n",
    "\n",
    "# Define the helper for getting the inverse of a g matrix\n",
    "def inverse_g(g: sym.Matrix) -> sym.Matrix:\n",
    "    R = g[:3, :3]\n",
    "    p = g[:3, 3]\n",
    "    return sym.Matrix([[R.T, -R.T * p], [0, 0, 0, 1]])\n",
    "\n",
    "def g_dot_SE3(transform, angular_velocity):\n",
    "    \"\"\"\n",
    "    Computes the time derivative of an SE(3) transformation matrix.\n",
    "\n",
    "    The SE(3) matrix `transform` is composed of a rotation matrix `R` and a position vector `p`.\n",
    "    The derivative is given as:\n",
    "        g_dot = [R_dot   p_dot]\n",
    "                [  0       0 1],\n",
    "\n",
    "    where:\n",
    "        - R_dot = R * hat(w),\n",
    "          `w` is the angular velocity vector.\n",
    "        - p_dot = derivative of the position vector `p`.\n",
    "\n",
    "    Parameters\n",
    "    ----------\n",
    "    transform : sympy.Matrix\n",
    "        The SE(3) homogeneous transformation matrix (3x3 in planar case).\n",
    "    angular_velocity : sympy.Symbol\n",
    "        Angular velocity (derivative of the rotation angle, theta).\n",
    "\n",
    "    Returns\n",
    "    -------\n",
    "    sympy.Matrix\n",
    "        Time derivative of the SE(3) homogeneous transformation matrix (g_dot).\n",
    "\n",
    "    Notes\n",
    "    -----\n",
    "    This assumes a 2D planar system with rotation about the z-axis (right-hand rule). The system uses:\n",
    "        - A 3x3 matrix for rotation and translation.\n",
    "        - Angular velocity vector w = [0, 0, d(theta)/dt], where z is the axis of rotation.\n",
    "    \"\"\"\n",
    "    # Compute the angular velocity vector (in matrix form for SE(3))\n",
    "    w = sym.Matrix([0, 0, angular_velocity.diff(t)])\n",
    "    \n",
    "    # Extract Components\n",
    "    R = transform[:3, :3]  # Rotation matrix\n",
    "    p = transform[:3, 3]   # Translation vector\n",
    "\n",
    "    # Derivative of rotation: R_dot = R * hat(w)\n",
    "    R_dot = R * hat(w)\n",
    "\n",
    "    # Derivative of translation: p_dot\n",
    "    p_dot = p.diff(t)\n",
    "\n",
    "    # Construct g_dot\n",
    "    # use T and Rotz to construct the g_dot matrix\n",
    "    g_dot_matrix = sym.Matrix([[R_dot, p_dot], [0, 0, 0, 1]])\n",
    "    return g_dot_matrix\n",
    "\n",
    "def body_velocity(transform, angular_velocity):\n",
    "    \"\"\"\n",
    "    Computes the body velocity from the SE(3) transformation matrix.\n",
    "\n",
    "    The body velocity is given as a 6D spatial velocity vector (in planar motion, reduced to 3D):\n",
    "        V_body = [v  ] -> Linear velocity from R_inv * (p_dot)\n",
    "                 [w  ] -> Angular velocity\n",
    "\n",
    "    Parameters\n",
    "    ----------\n",
    "    transform : sympy.Matrix\n",
    "        The SE(3) homogeneous transformation matrix for a frame (3x3 in planar case).\n",
    "    angular_velocity : sympy.Symbol\n",
    "        Angular velocity (derivative of the rotation angle, theta).\n",
    "\n",
    "    Returns\n",
    "    -------\n",
    "    sympy.Matrix\n",
    "        The spatial body velocity vector for the specified frame.\n",
    "\n",
    "    Raises\n",
    "    ------\n",
    "    ValueError\n",
    "        If an invalid output type is specified.\n",
    "\n",
    "    Notes\n",
    "    -----\n",
    "    - Body velocity is computed as:\n",
    "          V_body = g^(-1) * g_dot\n",
    "      where g^(-1) is the inverse of the SE(3) matrix.\n",
    "    - This function is planar, so angular velocity is scalar (about z-axis).\n",
    "    \"\"\"\n",
    "    # Compute g^-1 (the inverse of SE(3))\n",
    "    transform_inverse = inverse_g(transform)\n",
    "\n",
    "    # Compute g_dot\n",
    "    g_dot_matrix = g_dot_SE3(transform, angular_velocity)\n",
    "\n",
    "    # Multiply to get body velocity: V_body = g^(-1) * g_dot\n",
    "    V_body_matrix = transform_inverse * g_dot_matrix\n",
    "\n",
    "    # Extract body velocity: w = angular component, v = linear component\n",
    "    w_hat = V_body_matrix[:3, :3]\n",
    "    v = V_body_matrix[:3, 3]\n",
    "    w = unhat(w_hat)\n",
    "    display(v.col_join(w))\n",
    "    return v.col_join(w)"
   ]
  },
  {
   "cell_type": "code",
   "execution_count": 6,
   "metadata": {},
   "outputs": [],
   "source": [
    "# We have 6 configuration variables\n",
    "t = sym.symbols('t')\n",
    "x_b = sym.Function('x_b')(t)\n",
    "y_b = sym.Function('y_b')(t)\n",
    "theta_b = sym.Function('theta_b')(t)\n",
    "x_j = sym.Function('x_j')(t)\n",
    "y_j = sym.Function('y_j')(t)\n",
    "theta_j = sym.Function('theta_j')(t)"
   ]
  },
  {
   "cell_type": "code",
   "execution_count": 8,
   "metadata": {},
   "outputs": [],
   "source": [
    "# Parameters for the box and jack\n",
    "l_box, M_box = 6, 100  # Box length and mass\n",
    "j_box = (1/12) * M_box * (2 * l_box) ** 2  # Moment of inertia for the box\n",
    "\n",
    "l_jack, m_jack = 1, 1  # Jack length and mass\n",
    "j_jack = (1/12) * m_jack * (2 * l_jack) ** 2  # Moment of inertia for the jack\n",
    "M_jack = 1  # Mass of the jack\n",
    "# Gravitational constant\n",
    "g = 9.81\n",
    "\n",
    "# External forces (box shaking parameters)\n",
    "theta_d_b = sin(2 * np.pi * t / 5)\n",
    "k = 30000\n",
    "F_y_b = 4 * M_box * g\n",
    "F_theta_b = k * theta_d_b\n",
    "F_ext = Matrix([0, F_y_b, F_theta_b, 0, 0, 0])\n",
    "\n",
    "# Generalized coordinates\n",
    "q = Matrix([x_b, y_b, theta_b, x_j, y_j, theta_j])\n",
    "qdot = q.diff(t)\n",
    "qddot = qdot.diff(t)\n",
    "\n",
    "# Homogeneous transformation matrices\n",
    "g_wa = Rotz(theta_b) * T(x_b, y_b)\n",
    "g_a_a1 = sym.Matrix([\n",
    "    [0,  1, 0, -l_box / 2],\n",
    "    [-1, 0, 0, 0        ],\n",
    "    [0,  0, 1, 0        ],\n",
    "    [0,  0, 0, 1        ]\n",
    "])\n",
    "\n",
    "g_a_a2 = sym.Matrix([\n",
    "    [-1,  0, 0, 0],\n",
    "    [0, -1, 0, l_box / 2],\n",
    "    [0,  0, 1, 0        ],\n",
    "    [0,  0, 0, 1        ]\n",
    "])\n",
    "\n",
    "g_a_a3 = sym.Matrix([\n",
    "    [1, 0, 0, 0         ],\n",
    "    [0, 1, 0, -l_box / 2],\n",
    "    [0, 0, 1, 0         ],\n",
    "    [0, 0, 0, 1         ]\n",
    "])\n",
    "\n",
    "g_a_a4 = sym.Matrix([\n",
    "    [0, -1, 0, l_box / 2],\n",
    "    [1,  0, 0, 0        ],\n",
    "    [0,  0, 1, 0        ],\n",
    "    [0,  0, 0, 1        ]\n",
    "])\n",
    "\n",
    "g_wb = Rotz(theta_j) * T(x_j, y_j)\n",
    "g_b_b1 = sym.Matrix([\n",
    "    [1,  0, 0, -l_jack / 2],\n",
    "    [0, 1, 0, -l_jack / 2],\n",
    "    [0,  0, 1, 0         ],\n",
    "    [0,  0, 0, 1         ]\n",
    "])\n",
    "\n",
    "g_b_b2 = sym.Matrix([\n",
    "    [1,  0, 0, -l_jack / 2],\n",
    "    [0,  1, 0, l_jack / 2],\n",
    "    [0,  0, 1, 0         ],\n",
    "    [0,  0, 0, 1         ]\n",
    "])\n",
    "\n",
    "g_b_b3 = sym.Matrix([\n",
    "    [1,  0, 0, l_jack / 2],\n",
    "    [0, -1, 0, -l_jack / 2],\n",
    "    [0,  0, 1, 0         ],\n",
    "    [0,  0, 0, 1         ]\n",
    "])\n",
    "\n",
    "g_b_b4 = sym.Matrix([\n",
    "    [1,  0, 0, l_jack / 2],\n",
    "    [0, 1, 0, l_jack / 2],\n",
    "    [0,  0, 1, 0         ],\n",
    "    [0,  0, 0, 1         ]\n",
    "])"
   ]
  },
  {
   "cell_type": "code",
   "execution_count": 26,
   "metadata": {},
   "outputs": [],
   "source": [
    "origin = sym.Matrix([0, 0, 0, 1])\n",
    "r_wa = g_wa *origin\n",
    "r_wb = g_wb *origin"
   ]
  },
  {
   "cell_type": "code",
   "execution_count": 30,
   "metadata": {},
   "outputs": [
    {
     "data": {
      "text/latex": [
       "$\\displaystyle \\left[\\begin{matrix}- \\left(x_{b}{\\left(t \\right)} \\sin{\\left(\\theta_{b}{\\left(t \\right)} \\right)} + y_{b}{\\left(t \\right)} \\cos{\\left(\\theta_{b}{\\left(t \\right)} \\right)}\\right) \\sin{\\left(\\theta_{b}{\\left(t \\right)} \\right)} - \\left(x_{b}{\\left(t \\right)} \\cos{\\left(\\theta_{b}{\\left(t \\right)} \\right)} - y_{b}{\\left(t \\right)} \\sin{\\left(\\theta_{b}{\\left(t \\right)} \\right)}\\right) \\cos{\\left(\\theta_{b}{\\left(t \\right)} \\right)} + \\left(- x_{b}{\\left(t \\right)} \\sin{\\left(\\theta_{b}{\\left(t \\right)} \\right)} \\frac{d}{d t} \\theta_{b}{\\left(t \\right)} - y_{b}{\\left(t \\right)} \\cos{\\left(\\theta_{b}{\\left(t \\right)} \\right)} \\frac{d}{d t} \\theta_{b}{\\left(t \\right)} - \\sin{\\left(\\theta_{b}{\\left(t \\right)} \\right)} \\frac{d}{d t} y_{b}{\\left(t \\right)} + \\cos{\\left(\\theta_{b}{\\left(t \\right)} \\right)} \\frac{d}{d t} x_{b}{\\left(t \\right)}\\right) \\cos{\\left(\\theta_{b}{\\left(t \\right)} \\right)} + \\left(x_{b}{\\left(t \\right)} \\cos{\\left(\\theta_{b}{\\left(t \\right)} \\right)} \\frac{d}{d t} \\theta_{b}{\\left(t \\right)} - y_{b}{\\left(t \\right)} \\sin{\\left(\\theta_{b}{\\left(t \\right)} \\right)} \\frac{d}{d t} \\theta_{b}{\\left(t \\right)} + \\sin{\\left(\\theta_{b}{\\left(t \\right)} \\right)} \\frac{d}{d t} x_{b}{\\left(t \\right)} + \\cos{\\left(\\theta_{b}{\\left(t \\right)} \\right)} \\frac{d}{d t} y_{b}{\\left(t \\right)}\\right) \\sin{\\left(\\theta_{b}{\\left(t \\right)} \\right)}\\\\- \\left(x_{b}{\\left(t \\right)} \\sin{\\left(\\theta_{b}{\\left(t \\right)} \\right)} + y_{b}{\\left(t \\right)} \\cos{\\left(\\theta_{b}{\\left(t \\right)} \\right)}\\right) \\cos{\\left(\\theta_{b}{\\left(t \\right)} \\right)} + \\left(x_{b}{\\left(t \\right)} \\cos{\\left(\\theta_{b}{\\left(t \\right)} \\right)} - y_{b}{\\left(t \\right)} \\sin{\\left(\\theta_{b}{\\left(t \\right)} \\right)}\\right) \\sin{\\left(\\theta_{b}{\\left(t \\right)} \\right)} - \\left(- x_{b}{\\left(t \\right)} \\sin{\\left(\\theta_{b}{\\left(t \\right)} \\right)} \\frac{d}{d t} \\theta_{b}{\\left(t \\right)} - y_{b}{\\left(t \\right)} \\cos{\\left(\\theta_{b}{\\left(t \\right)} \\right)} \\frac{d}{d t} \\theta_{b}{\\left(t \\right)} - \\sin{\\left(\\theta_{b}{\\left(t \\right)} \\right)} \\frac{d}{d t} y_{b}{\\left(t \\right)} + \\cos{\\left(\\theta_{b}{\\left(t \\right)} \\right)} \\frac{d}{d t} x_{b}{\\left(t \\right)}\\right) \\sin{\\left(\\theta_{b}{\\left(t \\right)} \\right)} + \\left(x_{b}{\\left(t \\right)} \\cos{\\left(\\theta_{b}{\\left(t \\right)} \\right)} \\frac{d}{d t} \\theta_{b}{\\left(t \\right)} - y_{b}{\\left(t \\right)} \\sin{\\left(\\theta_{b}{\\left(t \\right)} \\right)} \\frac{d}{d t} \\theta_{b}{\\left(t \\right)} + \\sin{\\left(\\theta_{b}{\\left(t \\right)} \\right)} \\frac{d}{d t} x_{b}{\\left(t \\right)} + \\cos{\\left(\\theta_{b}{\\left(t \\right)} \\right)} \\frac{d}{d t} y_{b}{\\left(t \\right)}\\right) \\cos{\\left(\\theta_{b}{\\left(t \\right)} \\right)}\\\\0\\\\0\\\\0\\\\\\sin^{2}{\\left(\\theta_{b}{\\left(t \\right)} \\right)} \\frac{d}{d t} \\theta_{b}{\\left(t \\right)} + \\cos^{2}{\\left(\\theta_{b}{\\left(t \\right)} \\right)} \\frac{d}{d t} \\theta_{b}{\\left(t \\right)}\\end{matrix}\\right]$"
      ],
      "text/plain": [
       "Matrix([\n",
       "[-(x_b(t)*sin(theta_b(t)) + y_b(t)*cos(theta_b(t)))*sin(theta_b(t)) - (x_b(t)*cos(theta_b(t)) - y_b(t)*sin(theta_b(t)))*cos(theta_b(t)) + (-x_b(t)*sin(theta_b(t))*Derivative(theta_b(t), t) - y_b(t)*cos(theta_b(t))*Derivative(theta_b(t), t) - sin(theta_b(t))*Derivative(y_b(t), t) + cos(theta_b(t))*Derivative(x_b(t), t))*cos(theta_b(t)) + (x_b(t)*cos(theta_b(t))*Derivative(theta_b(t), t) - y_b(t)*sin(theta_b(t))*Derivative(theta_b(t), t) + sin(theta_b(t))*Derivative(x_b(t), t) + cos(theta_b(t))*Derivative(y_b(t), t))*sin(theta_b(t))],\n",
       "[-(x_b(t)*sin(theta_b(t)) + y_b(t)*cos(theta_b(t)))*cos(theta_b(t)) + (x_b(t)*cos(theta_b(t)) - y_b(t)*sin(theta_b(t)))*sin(theta_b(t)) - (-x_b(t)*sin(theta_b(t))*Derivative(theta_b(t), t) - y_b(t)*cos(theta_b(t))*Derivative(theta_b(t), t) - sin(theta_b(t))*Derivative(y_b(t), t) + cos(theta_b(t))*Derivative(x_b(t), t))*sin(theta_b(t)) + (x_b(t)*cos(theta_b(t))*Derivative(theta_b(t), t) - y_b(t)*sin(theta_b(t))*Derivative(theta_b(t), t) + sin(theta_b(t))*Derivative(x_b(t), t) + cos(theta_b(t))*Derivative(y_b(t), t))*cos(theta_b(t))],\n",
       "[                                                                                                                                                                                                                                                                                                                                                                                                                                                                                                                                                      0],\n",
       "[                                                                                                                                                                                                                                                                                                                                                                                                                                                                                                                                                      0],\n",
       "[                                                                                                                                                                                                                                                                                                                                                                                                                                                                                                                                                      0],\n",
       "[                                                                                                                                                                                                                                                                                                                                                                                                                                                            sin(theta_b(t))**2*Derivative(theta_b(t), t) + cos(theta_b(t))**2*Derivative(theta_b(t), t)]])"
      ]
     },
     "metadata": {},
     "output_type": "display_data"
    },
    {
     "data": {
      "text/latex": [
       "$\\displaystyle \\left[\\begin{matrix}- \\left(x_{j}{\\left(t \\right)} \\sin{\\left(\\theta_{j}{\\left(t \\right)} \\right)} + y_{j}{\\left(t \\right)} \\cos{\\left(\\theta_{j}{\\left(t \\right)} \\right)}\\right) \\sin{\\left(\\theta_{j}{\\left(t \\right)} \\right)} - \\left(x_{j}{\\left(t \\right)} \\cos{\\left(\\theta_{j}{\\left(t \\right)} \\right)} - y_{j}{\\left(t \\right)} \\sin{\\left(\\theta_{j}{\\left(t \\right)} \\right)}\\right) \\cos{\\left(\\theta_{j}{\\left(t \\right)} \\right)} + \\left(- x_{j}{\\left(t \\right)} \\sin{\\left(\\theta_{j}{\\left(t \\right)} \\right)} \\frac{d}{d t} \\theta_{j}{\\left(t \\right)} - y_{j}{\\left(t \\right)} \\cos{\\left(\\theta_{j}{\\left(t \\right)} \\right)} \\frac{d}{d t} \\theta_{j}{\\left(t \\right)} - \\sin{\\left(\\theta_{j}{\\left(t \\right)} \\right)} \\frac{d}{d t} y_{j}{\\left(t \\right)} + \\cos{\\left(\\theta_{j}{\\left(t \\right)} \\right)} \\frac{d}{d t} x_{j}{\\left(t \\right)}\\right) \\cos{\\left(\\theta_{j}{\\left(t \\right)} \\right)} + \\left(x_{j}{\\left(t \\right)} \\cos{\\left(\\theta_{j}{\\left(t \\right)} \\right)} \\frac{d}{d t} \\theta_{j}{\\left(t \\right)} - y_{j}{\\left(t \\right)} \\sin{\\left(\\theta_{j}{\\left(t \\right)} \\right)} \\frac{d}{d t} \\theta_{j}{\\left(t \\right)} + \\sin{\\left(\\theta_{j}{\\left(t \\right)} \\right)} \\frac{d}{d t} x_{j}{\\left(t \\right)} + \\cos{\\left(\\theta_{j}{\\left(t \\right)} \\right)} \\frac{d}{d t} y_{j}{\\left(t \\right)}\\right) \\sin{\\left(\\theta_{j}{\\left(t \\right)} \\right)}\\\\- \\left(x_{j}{\\left(t \\right)} \\sin{\\left(\\theta_{j}{\\left(t \\right)} \\right)} + y_{j}{\\left(t \\right)} \\cos{\\left(\\theta_{j}{\\left(t \\right)} \\right)}\\right) \\cos{\\left(\\theta_{j}{\\left(t \\right)} \\right)} + \\left(x_{j}{\\left(t \\right)} \\cos{\\left(\\theta_{j}{\\left(t \\right)} \\right)} - y_{j}{\\left(t \\right)} \\sin{\\left(\\theta_{j}{\\left(t \\right)} \\right)}\\right) \\sin{\\left(\\theta_{j}{\\left(t \\right)} \\right)} - \\left(- x_{j}{\\left(t \\right)} \\sin{\\left(\\theta_{j}{\\left(t \\right)} \\right)} \\frac{d}{d t} \\theta_{j}{\\left(t \\right)} - y_{j}{\\left(t \\right)} \\cos{\\left(\\theta_{j}{\\left(t \\right)} \\right)} \\frac{d}{d t} \\theta_{j}{\\left(t \\right)} - \\sin{\\left(\\theta_{j}{\\left(t \\right)} \\right)} \\frac{d}{d t} y_{j}{\\left(t \\right)} + \\cos{\\left(\\theta_{j}{\\left(t \\right)} \\right)} \\frac{d}{d t} x_{j}{\\left(t \\right)}\\right) \\sin{\\left(\\theta_{j}{\\left(t \\right)} \\right)} + \\left(x_{j}{\\left(t \\right)} \\cos{\\left(\\theta_{j}{\\left(t \\right)} \\right)} \\frac{d}{d t} \\theta_{j}{\\left(t \\right)} - y_{j}{\\left(t \\right)} \\sin{\\left(\\theta_{j}{\\left(t \\right)} \\right)} \\frac{d}{d t} \\theta_{j}{\\left(t \\right)} + \\sin{\\left(\\theta_{j}{\\left(t \\right)} \\right)} \\frac{d}{d t} x_{j}{\\left(t \\right)} + \\cos{\\left(\\theta_{j}{\\left(t \\right)} \\right)} \\frac{d}{d t} y_{j}{\\left(t \\right)}\\right) \\cos{\\left(\\theta_{j}{\\left(t \\right)} \\right)}\\\\0\\\\0\\\\0\\\\\\sin^{2}{\\left(\\theta_{j}{\\left(t \\right)} \\right)} \\frac{d}{d t} \\theta_{j}{\\left(t \\right)} + \\cos^{2}{\\left(\\theta_{j}{\\left(t \\right)} \\right)} \\frac{d}{d t} \\theta_{j}{\\left(t \\right)}\\end{matrix}\\right]$"
      ],
      "text/plain": [
       "Matrix([\n",
       "[-(x_j(t)*sin(theta_j(t)) + y_j(t)*cos(theta_j(t)))*sin(theta_j(t)) - (x_j(t)*cos(theta_j(t)) - y_j(t)*sin(theta_j(t)))*cos(theta_j(t)) + (-x_j(t)*sin(theta_j(t))*Derivative(theta_j(t), t) - y_j(t)*cos(theta_j(t))*Derivative(theta_j(t), t) - sin(theta_j(t))*Derivative(y_j(t), t) + cos(theta_j(t))*Derivative(x_j(t), t))*cos(theta_j(t)) + (x_j(t)*cos(theta_j(t))*Derivative(theta_j(t), t) - y_j(t)*sin(theta_j(t))*Derivative(theta_j(t), t) + sin(theta_j(t))*Derivative(x_j(t), t) + cos(theta_j(t))*Derivative(y_j(t), t))*sin(theta_j(t))],\n",
       "[-(x_j(t)*sin(theta_j(t)) + y_j(t)*cos(theta_j(t)))*cos(theta_j(t)) + (x_j(t)*cos(theta_j(t)) - y_j(t)*sin(theta_j(t)))*sin(theta_j(t)) - (-x_j(t)*sin(theta_j(t))*Derivative(theta_j(t), t) - y_j(t)*cos(theta_j(t))*Derivative(theta_j(t), t) - sin(theta_j(t))*Derivative(y_j(t), t) + cos(theta_j(t))*Derivative(x_j(t), t))*sin(theta_j(t)) + (x_j(t)*cos(theta_j(t))*Derivative(theta_j(t), t) - y_j(t)*sin(theta_j(t))*Derivative(theta_j(t), t) + sin(theta_j(t))*Derivative(x_j(t), t) + cos(theta_j(t))*Derivative(y_j(t), t))*cos(theta_j(t))],\n",
       "[                                                                                                                                                                                                                                                                                                                                                                                                                                                                                                                                                      0],\n",
       "[                                                                                                                                                                                                                                                                                                                                                                                                                                                                                                                                                      0],\n",
       "[                                                                                                                                                                                                                                                                                                                                                                                                                                                                                                                                                      0],\n",
       "[                                                                                                                                                                                                                                                                                                                                                                                                                                                            sin(theta_j(t))**2*Derivative(theta_j(t), t) + cos(theta_j(t))**2*Derivative(theta_j(t), t)]])"
      ]
     },
     "metadata": {},
     "output_type": "display_data"
    }
   ],
   "source": [
    "# Now calculate velocities of the box and jack\n",
    "v_a = body_velocity(g_wa, theta_b)\n",
    "v_b = body_velocity(g_wb, theta_j)"
   ]
  },
  {
   "cell_type": "code",
   "execution_count": 31,
   "metadata": {},
   "outputs": [],
   "source": [
    "# Now calculate inertia\n",
    "I_a = sym.Matrix([\n",
    "    [4*M_box, 0, 0, 0, 0, 0],\n",
    "    [0, 4*M_box, 0, 0, 0, 0],\n",
    "    [0, 0, 4*M_box, 0, 0, 0],\n",
    "    [0, 0, 0, 0, 0, 0],\n",
    "    [0, 0, 0, 0, 0, 0],\n",
    "    [0, 0, 0, 0, 0, j_jack]\n",
    "])\n",
    "\n",
    "I_b = sym.Matrix([\n",
    "    [4*M_jack, 0, 0, 0, 0, 0],\n",
    "    [0, 4*M_jack, 0, 0, 0, 0],\n",
    "    [0, 0, 4*M_jack, 0, 0, 0],\n",
    "    [0, 0, 0, 0, 0, 0],\n",
    "    [0, 0, 0, 0, 0, 0],\n",
    "    [0, 0, 0, 0, 0, j_jack]\n",
    "])"
   ]
  },
  {
   "cell_type": "code",
   "execution_count": 33,
   "metadata": {},
   "outputs": [
    {
     "data": {
      "text/plain": [
       "(6, 1)"
      ]
     },
     "metadata": {},
     "output_type": "display_data"
    },
    {
     "data": {
      "text/plain": [
       "(6, 6)"
      ]
     },
     "metadata": {},
     "output_type": "display_data"
    },
    {
     "data": {
      "text/plain": [
       "(6, 1)"
      ]
     },
     "metadata": {},
     "output_type": "display_data"
    },
    {
     "data": {
      "text/plain": [
       "(6, 6)"
      ]
     },
     "metadata": {},
     "output_type": "display_data"
    },
    {
     "data": {
      "text/latex": [
       "$\\displaystyle 200.0 \\left(x_{b}{\\left(t \\right)} \\frac{d}{d t} \\theta_{b}{\\left(t \\right)} - y_{b}{\\left(t \\right)} + \\frac{d}{d t} y_{b}{\\left(t \\right)}\\right)^{2} + 2.0 \\left(x_{j}{\\left(t \\right)} \\frac{d}{d t} \\theta_{j}{\\left(t \\right)} - y_{j}{\\left(t \\right)} + \\frac{d}{d t} y_{j}{\\left(t \\right)}\\right)^{2} + 200.0 \\left(x_{b}{\\left(t \\right)} + y_{b}{\\left(t \\right)} \\frac{d}{d t} \\theta_{b}{\\left(t \\right)} - \\frac{d}{d t} x_{b}{\\left(t \\right)}\\right)^{2} + 2.0 \\left(x_{j}{\\left(t \\right)} + y_{j}{\\left(t \\right)} \\frac{d}{d t} \\theta_{j}{\\left(t \\right)} - \\frac{d}{d t} x_{j}{\\left(t \\right)}\\right)^{2} + 0.166666666666667 \\left(\\frac{d}{d t} \\theta_{b}{\\left(t \\right)}\\right)^{2} + 0.166666666666667 \\left(\\frac{d}{d t} \\theta_{j}{\\left(t \\right)}\\right)^{2}$"
      ],
      "text/plain": [
       "200.0*(x_b(t)*Derivative(theta_b(t), t) - y_b(t) + Derivative(y_b(t), t))**2 + 2.0*(x_j(t)*Derivative(theta_j(t), t) - y_j(t) + Derivative(y_j(t), t))**2 + 200.0*(x_b(t) + y_b(t)*Derivative(theta_b(t), t) - Derivative(x_b(t), t))**2 + 2.0*(x_j(t) + y_j(t)*Derivative(theta_j(t), t) - Derivative(x_j(t), t))**2 + 0.166666666666667*Derivative(theta_b(t), t)**2 + 0.166666666666667*Derivative(theta_j(t), t)**2"
      ]
     },
     "metadata": {},
     "output_type": "display_data"
    },
    {
     "data": {
      "text/latex": [
       "$\\displaystyle 981.0 x_{b}{\\left(t \\right)} \\sin{\\left(\\theta_{b}{\\left(t \\right)} \\right)} + 9.81 x_{j}{\\left(t \\right)} \\sin{\\left(\\theta_{j}{\\left(t \\right)} \\right)} + 981.0 y_{b}{\\left(t \\right)} \\cos{\\left(\\theta_{b}{\\left(t \\right)} \\right)} + 9.81 y_{j}{\\left(t \\right)} \\cos{\\left(\\theta_{j}{\\left(t \\right)} \\right)}$"
      ],
      "text/plain": [
       "981.0*x_b(t)*sin(theta_b(t)) + 9.81*x_j(t)*sin(theta_j(t)) + 981.0*y_b(t)*cos(theta_b(t)) + 9.81*y_j(t)*cos(theta_j(t))"
      ]
     },
     "metadata": {},
     "output_type": "display_data"
    },
    {
     "data": {
      "text/latex": [
       "$\\displaystyle \\left[\\begin{matrix}400.0 x_{b}{\\left(t \\right)} \\left(\\frac{d}{d t} \\theta_{b}{\\left(t \\right)}\\right)^{2} + 400.0 x_{b}{\\left(t \\right)} + 400.0 y_{b}{\\left(t \\right)} \\frac{d^{2}}{d t^{2}} \\theta_{b}{\\left(t \\right)} - 981.0 \\sin{\\left(\\theta_{b}{\\left(t \\right)} \\right)} + 800.0 \\frac{d}{d t} \\theta_{b}{\\left(t \\right)} \\frac{d}{d t} y_{b}{\\left(t \\right)} - 400.0 \\frac{d^{2}}{d t^{2}} x_{b}{\\left(t \\right)}\\\\- 400.0 x_{b}{\\left(t \\right)} \\frac{d^{2}}{d t^{2}} \\theta_{b}{\\left(t \\right)} + 400.0 y_{b}{\\left(t \\right)} \\left(\\frac{d}{d t} \\theta_{b}{\\left(t \\right)}\\right)^{2} + 400.0 y_{b}{\\left(t \\right)} - 981.0 \\cos{\\left(\\theta_{b}{\\left(t \\right)} \\right)} - 800.0 \\frac{d}{d t} \\theta_{b}{\\left(t \\right)} \\frac{d}{d t} x_{b}{\\left(t \\right)} - 400.0 \\frac{d^{2}}{d t^{2}} y_{b}{\\left(t \\right)}\\\\- 400.0 x_{b}^{2}{\\left(t \\right)} \\frac{d^{2}}{d t^{2}} \\theta_{b}{\\left(t \\right)} - 981.0 x_{b}{\\left(t \\right)} \\cos{\\left(\\theta_{b}{\\left(t \\right)} \\right)} - 800.0 x_{b}{\\left(t \\right)} \\frac{d}{d t} \\theta_{b}{\\left(t \\right)} \\frac{d}{d t} x_{b}{\\left(t \\right)} - 400.0 x_{b}{\\left(t \\right)} \\frac{d^{2}}{d t^{2}} y_{b}{\\left(t \\right)} - 400.0 y_{b}^{2}{\\left(t \\right)} \\frac{d^{2}}{d t^{2}} \\theta_{b}{\\left(t \\right)} + 981.0 y_{b}{\\left(t \\right)} \\sin{\\left(\\theta_{b}{\\left(t \\right)} \\right)} - 800.0 y_{b}{\\left(t \\right)} \\frac{d}{d t} \\theta_{b}{\\left(t \\right)} \\frac{d}{d t} y_{b}{\\left(t \\right)} + 400.0 y_{b}{\\left(t \\right)} \\frac{d^{2}}{d t^{2}} x_{b}{\\left(t \\right)} - 0.333333333333333 \\frac{d^{2}}{d t^{2}} \\theta_{b}{\\left(t \\right)}\\\\4.0 x_{j}{\\left(t \\right)} \\left(\\frac{d}{d t} \\theta_{j}{\\left(t \\right)}\\right)^{2} + 4.0 x_{j}{\\left(t \\right)} + 4.0 y_{j}{\\left(t \\right)} \\frac{d^{2}}{d t^{2}} \\theta_{j}{\\left(t \\right)} - 9.81 \\sin{\\left(\\theta_{j}{\\left(t \\right)} \\right)} + 8.0 \\frac{d}{d t} \\theta_{j}{\\left(t \\right)} \\frac{d}{d t} y_{j}{\\left(t \\right)} - 4.0 \\frac{d^{2}}{d t^{2}} x_{j}{\\left(t \\right)}\\\\- 4.0 x_{j}{\\left(t \\right)} \\frac{d^{2}}{d t^{2}} \\theta_{j}{\\left(t \\right)} + 4.0 y_{j}{\\left(t \\right)} \\left(\\frac{d}{d t} \\theta_{j}{\\left(t \\right)}\\right)^{2} + 4.0 y_{j}{\\left(t \\right)} - 9.81 \\cos{\\left(\\theta_{j}{\\left(t \\right)} \\right)} - 8.0 \\frac{d}{d t} \\theta_{j}{\\left(t \\right)} \\frac{d}{d t} x_{j}{\\left(t \\right)} - 4.0 \\frac{d^{2}}{d t^{2}} y_{j}{\\left(t \\right)}\\\\- 4.0 x_{j}^{2}{\\left(t \\right)} \\frac{d^{2}}{d t^{2}} \\theta_{j}{\\left(t \\right)} - 9.81 x_{j}{\\left(t \\right)} \\cos{\\left(\\theta_{j}{\\left(t \\right)} \\right)} - 8.0 x_{j}{\\left(t \\right)} \\frac{d}{d t} \\theta_{j}{\\left(t \\right)} \\frac{d}{d t} x_{j}{\\left(t \\right)} - 4.0 x_{j}{\\left(t \\right)} \\frac{d^{2}}{d t^{2}} y_{j}{\\left(t \\right)} - 4.0 y_{j}^{2}{\\left(t \\right)} \\frac{d^{2}}{d t^{2}} \\theta_{j}{\\left(t \\right)} + 9.81 y_{j}{\\left(t \\right)} \\sin{\\left(\\theta_{j}{\\left(t \\right)} \\right)} - 8.0 y_{j}{\\left(t \\right)} \\frac{d}{d t} \\theta_{j}{\\left(t \\right)} \\frac{d}{d t} y_{j}{\\left(t \\right)} + 4.0 y_{j}{\\left(t \\right)} \\frac{d^{2}}{d t^{2}} x_{j}{\\left(t \\right)} - 0.333333333333333 \\frac{d^{2}}{d t^{2}} \\theta_{j}{\\left(t \\right)}\\end{matrix}\\right] = \\left[\\begin{matrix}0\\\\3924.0\\\\30000 \\sin{\\left(1.25663706143592 t \\right)}\\\\0\\\\0\\\\0\\end{matrix}\\right]$"
      ],
      "text/plain": [
       "Eq(Matrix([\n",
       "[                                                                                                                                                                                                          400.0*x_b(t)*Derivative(theta_b(t), t)**2 + 400.0*x_b(t) + 400.0*y_b(t)*Derivative(theta_b(t), (t, 2)) - 981.0*sin(theta_b(t)) + 800.0*Derivative(theta_b(t), t)*Derivative(y_b(t), t) - 400.0*Derivative(x_b(t), (t, 2))],\n",
       "[                                                                                                                                                                                                         -400.0*x_b(t)*Derivative(theta_b(t), (t, 2)) + 400.0*y_b(t)*Derivative(theta_b(t), t)**2 + 400.0*y_b(t) - 981.0*cos(theta_b(t)) - 800.0*Derivative(theta_b(t), t)*Derivative(x_b(t), t) - 400.0*Derivative(y_b(t), (t, 2))],\n",
       "[-400.0*x_b(t)**2*Derivative(theta_b(t), (t, 2)) - 981.0*x_b(t)*cos(theta_b(t)) - 800.0*x_b(t)*Derivative(theta_b(t), t)*Derivative(x_b(t), t) - 400.0*x_b(t)*Derivative(y_b(t), (t, 2)) - 400.0*y_b(t)**2*Derivative(theta_b(t), (t, 2)) + 981.0*y_b(t)*sin(theta_b(t)) - 800.0*y_b(t)*Derivative(theta_b(t), t)*Derivative(y_b(t), t) + 400.0*y_b(t)*Derivative(x_b(t), (t, 2)) - 0.333333333333333*Derivative(theta_b(t), (t, 2))],\n",
       "[                                                                                                                                                                                                                     4.0*x_j(t)*Derivative(theta_j(t), t)**2 + 4.0*x_j(t) + 4.0*y_j(t)*Derivative(theta_j(t), (t, 2)) - 9.81*sin(theta_j(t)) + 8.0*Derivative(theta_j(t), t)*Derivative(y_j(t), t) - 4.0*Derivative(x_j(t), (t, 2))],\n",
       "[                                                                                                                                                                                                                    -4.0*x_j(t)*Derivative(theta_j(t), (t, 2)) + 4.0*y_j(t)*Derivative(theta_j(t), t)**2 + 4.0*y_j(t) - 9.81*cos(theta_j(t)) - 8.0*Derivative(theta_j(t), t)*Derivative(x_j(t), t) - 4.0*Derivative(y_j(t), (t, 2))],\n",
       "[              -4.0*x_j(t)**2*Derivative(theta_j(t), (t, 2)) - 9.81*x_j(t)*cos(theta_j(t)) - 8.0*x_j(t)*Derivative(theta_j(t), t)*Derivative(x_j(t), t) - 4.0*x_j(t)*Derivative(y_j(t), (t, 2)) - 4.0*y_j(t)**2*Derivative(theta_j(t), (t, 2)) + 9.81*y_j(t)*sin(theta_j(t)) - 8.0*y_j(t)*Derivative(theta_j(t), t)*Derivative(y_j(t), t) + 4.0*y_j(t)*Derivative(x_j(t), (t, 2)) - 0.333333333333333*Derivative(theta_j(t), (t, 2))]]), Matrix([\n",
       "[                            0],\n",
       "[                       3924.0],\n",
       "[30000*sin(1.25663706143592*t)],\n",
       "[                            0],\n",
       "[                            0],\n",
       "[                            0]]))"
      ]
     },
     "metadata": {},
     "output_type": "display_data"
    },
    {
     "data": {
      "text/plain": [
       "{Derivative(theta_b(t), (t, 2)): 11772.0*x_b(t) - 90000.0*sin(1.25663706143592*t),\n",
       " Derivative(theta_j(t), (t, 2)): 0.0,\n",
       " Derivative(x_b(t), (t, 2)): 11772.0*x_b(t)*y_b(t) + x_b(t)*Derivative(theta_b(t), t)**2 + x_b(t) - 90000.0*y_b(t)*sin(1.25663706143592*t) - 2.4525*sin(theta_b(t)) + 2.0*Derivative(theta_b(t), t)*Derivative(y_b(t), t),\n",
       " Derivative(x_j(t), (t, 2)): x_j(t)*Derivative(theta_j(t), t)**2 + x_j(t) - 2.4525*sin(theta_j(t)) + 2.0*Derivative(theta_j(t), t)*Derivative(y_j(t), t),\n",
       " Derivative(y_b(t), (t, 2)): -11772.0*x_b(t)**2 + 90000.0*x_b(t)*sin(1.25663706143592*t) + y_b(t)*Derivative(theta_b(t), t)**2 + y_b(t) - 2.4525*cos(theta_b(t)) - 2.0*Derivative(theta_b(t), t)*Derivative(x_b(t), t) - 9.81,\n",
       " Derivative(y_j(t), (t, 2)): y_j(t)*Derivative(theta_j(t), t)**2 + y_j(t) - 2.4525*cos(theta_j(t)) - 2.0*Derivative(theta_j(t), t)*Derivative(x_j(t), t)}"
      ]
     },
     "metadata": {},
     "output_type": "display_data"
    }
   ],
   "source": [
    "# Now calculate the kinetic energy\n",
    "display(v_a.shape)\n",
    "display(I_a.shape)\n",
    "display(v_b.shape)\n",
    "display(I_b.shape)\n",
    "KE = sym.simplify((1/2)*v_a.T*I_a*v_a + (1/2)*v_b.T*I_b*v_b)[0]\n",
    "display(KE)\n",
    "V = M_box * g * r_wa[1] + M_jack * g * r_wb[1]\n",
    "display(V)\n",
    "L = KE - V\n",
    "\n",
    "# Now calculate the Euler-Lagrange equations\n",
    "L_qdot = L.diff(qdot)\n",
    "L_qdot_dot = L_qdot.diff(t)\n",
    "L_q = L.diff(q)\n",
    "eqs = sym.simplify(L_q - L_qdot_dot)\n",
    "\n",
    "lhs = eqs\n",
    "rhs = F_ext\n",
    "EL_eqs = Eq(lhs, rhs)\n",
    "display(EL_eqs)\n",
    "\n",
    "# Now solve the equations\n",
    "sol = sym.solve(EL_eqs, qddot)\n",
    "display(sol)\n"
   ]
  },
  {
   "cell_type": "code",
   "execution_count": null,
   "metadata": {},
   "outputs": [],
   "source": []
  }
 ],
 "metadata": {
  "kernelspec": {
   "display_name": "venv",
   "language": "python",
   "name": "python3"
  },
  "language_info": {
   "codemirror_mode": {
    "name": "ipython",
    "version": 3
   },
   "file_extension": ".py",
   "mimetype": "text/x-python",
   "name": "python",
   "nbconvert_exporter": "python",
   "pygments_lexer": "ipython3",
   "version": "3.12.3"
  }
 },
 "nbformat": 4,
 "nbformat_minor": 2
}
